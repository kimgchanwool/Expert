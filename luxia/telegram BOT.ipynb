{
 "cells": [
  {
   "cell_type": "code",
   "execution_count": 1,
   "id": "8eac6efc",
   "metadata": {},
   "outputs": [
    {
     "name": "stdout",
     "output_type": "stream",
     "text": [
      "Collecting python-telegram-bot==13.14\n",
      "  Using cached python_telegram_bot-13.14-py3-none-any.whl (514 kB)\n",
      "Requirement already satisfied: cachetools==4.2.2 in c:\\users\\potatonet\\anaconda3\\lib\\site-packages (from python-telegram-bot==13.14) (4.2.2)\n",
      "Requirement already satisfied: tornado==6.1 in c:\\users\\potatonet\\anaconda3\\lib\\site-packages (from python-telegram-bot==13.14) (6.1)\n",
      "Requirement already satisfied: pytz>=2018.6 in c:\\users\\potatonet\\anaconda3\\lib\\site-packages (from python-telegram-bot==13.14) (2022.1)\n",
      "Requirement already satisfied: certifi in c:\\users\\potatonet\\anaconda3\\lib\\site-packages (from python-telegram-bot==13.14) (2022.9.14)\n",
      "Requirement already satisfied: APScheduler==3.6.3 in c:\\users\\potatonet\\anaconda3\\lib\\site-packages (from python-telegram-bot==13.14) (3.6.3)\n",
      "Requirement already satisfied: setuptools>=0.7 in c:\\users\\potatonet\\anaconda3\\lib\\site-packages (from APScheduler==3.6.3->python-telegram-bot==13.14) (67.6.0)\n",
      "Requirement already satisfied: six>=1.4.0 in c:\\users\\potatonet\\anaconda3\\lib\\site-packages (from APScheduler==3.6.3->python-telegram-bot==13.14) (1.16.0)\n",
      "Requirement already satisfied: tzlocal>=1.2 in c:\\users\\potatonet\\anaconda3\\lib\\site-packages (from APScheduler==3.6.3->python-telegram-bot==13.14) (4.3)\n",
      "Requirement already satisfied: tzdata in c:\\users\\potatonet\\anaconda3\\lib\\site-packages (from tzlocal>=1.2->APScheduler==3.6.3->python-telegram-bot==13.14) (2022.7)\n",
      "Requirement already satisfied: pytz-deprecation-shim in c:\\users\\potatonet\\anaconda3\\lib\\site-packages (from tzlocal>=1.2->APScheduler==3.6.3->python-telegram-bot==13.14) (0.1.0.post0)\n",
      "Installing collected packages: python-telegram-bot\n",
      "  Attempting uninstall: python-telegram-bot\n",
      "    Found existing installation: python-telegram-bot 20.1\n",
      "    Uninstalling python-telegram-bot-20.1:\n",
      "      Successfully uninstalled python-telegram-bot-20.1\n",
      "Successfully installed python-telegram-bot-13.14\n",
      "Note: you may need to restart the kernel to use updated packages.\n"
     ]
    }
   ],
   "source": [
    "pip install python-telegram-bot==13.14"
   ]
  },
  {
   "cell_type": "code",
   "execution_count": 2,
   "id": "51d95ffb",
   "metadata": {},
   "outputs": [],
   "source": [
    "import telegram"
   ]
  },
  {
   "cell_type": "code",
   "execution_count": 3,
   "id": "abe4a02e",
   "metadata": {},
   "outputs": [
    {
     "name": "stdout",
     "output_type": "stream",
     "text": [
      "5142887826\n"
     ]
    }
   ],
   "source": [
    "token = \n",
    "bot = telegram.Bot(token)\n",
    "\n",
    "updates = bot.getUpdates()#채팅 보내기\n",
    "chat_id = updates[0].message.chat_id\n",
    "print(chat_id)"
   ]
  },
  {
   "cell_type": "code",
   "execution_count": 4,
   "id": "7ffd8f01",
   "metadata": {
    "scrolled": true
   },
   "outputs": [
    {
     "data": {
      "text/plain": [
       "<telegram.message.Message at 0x29643248790>"
      ]
     },
     "execution_count": 4,
     "metadata": {},
     "output_type": "execute_result"
    }
   ],
   "source": [
    "\n",
    "bot.sendMessage(chat_id=chat_id, text=\"안녕하세요. 저는 봇입니다.\")"
   ]
  },
  {
   "cell_type": "code",
   "execution_count": 7,
   "id": "0142a419",
   "metadata": {},
   "outputs": [
    {
     "name": "stdout",
     "output_type": "stream",
     "text": [
      "Note: you may need to restart the kernel to use updated packages.\n"
     ]
    },
    {
     "name": "stderr",
     "output_type": "stream",
     "text": [
      "ERROR: Could not find a version that satisfies the requirement pybitthumb (from versions: none)\n",
      "ERROR: No matching distribution found for pybitthumb\n"
     ]
    }
   ],
   "source": [
    "pip install pybitthumb"
   ]
  },
  {
   "cell_type": "code",
   "execution_count": 8,
   "id": "92000468",
   "metadata": {},
   "outputs": [],
   "source": [
    "import pybithumb\n",
    "import time"
   ]
  },
  {
   "cell_type": "code",
   "execution_count": null,
   "id": "1f69bdac",
   "metadata": {},
   "outputs": [],
   "source": [
    "con_key = \"XXXXXXXXXXXXXXXXXXXXXXXXXXXXXXXX\"\n",
    "sec_key = \"XXXXXXXXXXXXXXXXXXXXXXXXXXXXXXXX\"\n",
    "\n",
    "bithumb = pybithumb.Bithumb(con_key, sec_key)\n",
    "\n",
    "won = 0\n",
    "\n",
    "for ticker in pybithumb.get_tickers() :\n",
    "    balance = bithumb.get_balance(ticker)\n",
    "    if balance[0] > 0 :\n",
    "        print(ticker, \"-\", \"보유수량\", format(balance[0],'f'), \", 평가금액\", format(balance[0] * pybithumb.get_current_price(ticker),'f'))\n",
    "        won = won + balance[0] * pybithumb.get_current_price(ticker)\n",
    "    \n",
    "    time.sleep(0.1)\n",
    "\n",
    "print ( \"총 원화 자산 :\", won + balance[2])"
   ]
  },
  {
   "cell_type": "code",
   "execution_count": 9,
   "id": "5d6f1013",
   "metadata": {
    "scrolled": true
   },
   "outputs": [
    {
     "ename": "IndentationError",
     "evalue": "expected an indented block (677177086.py, line 14)",
     "output_type": "error",
     "traceback": [
      "\u001b[1;36m  File \u001b[1;32m\"C:\\Users\\Potatonet\\AppData\\Local\\Temp\\ipykernel_26300\\677177086.py\"\u001b[1;36m, line \u001b[1;32m14\u001b[0m\n\u001b[1;33m    # time.sleep(looptime) # 반복 주기시간동안 봇 멈춤\u001b[0m\n\u001b[1;37m                                           ^\u001b[0m\n\u001b[1;31mIndentationError\u001b[0m\u001b[1;31m:\u001b[0m expected an indented block\n"
     ]
    }
   ],
   "source": [
    "looptime=input(\"반복 주기 입력 (초 단위) : \")\n",
    "while True:\n",
    "\t# 일봉 불러오기\n",
    "    # 선택된 보조지표로 현재 포지션(매수,매도,대기) 확인\n",
    "    # if 현재 포지션이 매수 : \n",
    "    \t# if 선행된 매수주문 중 미완료 주문이 있으면 : 주문 취소 후 매수 주문 (추격 매수)\n",
    "    \t# elif 선행된 매도주문 중 미완료 주문이 있으면 : 매도 주문 취소\n",
    "        # else : 매수 주문\n",
    "    # elif 현재 포지션이 매도 : 매도 주문\n",
    "        # if 선행된 매도주문 중 미완료 주문이 있으면 : 주문 취소 후 매도 주문 (추격 매도)\n",
    "    \t# elif 선행된 매수주문 중 미완료 주문이 있으면 : 매수 주문 취소\n",
    "        # else : 매도 주문\n",
    "    # else: 대기\n",
    "    # time.sleep(looptime) # 반복 주기시간동안 봇 멈춤"
   ]
  },
  {
   "cell_type": "code",
   "execution_count": null,
   "id": "48cddf6b",
   "metadata": {},
   "outputs": [],
   "source": [
    "bithumb = pybithumb.Bithumb(api_key, secret_key)\n",
    "coin_name = 'BTC'\n",
    "balance=bithumb.get_balance(coin_name)"
   ]
  },
  {
   "cell_type": "code",
   "execution_count": null,
   "id": "32587afa",
   "metadata": {},
   "outputs": [],
   "source": [
    "balance = '총 보유 수량, 코인 수량, 원화 보유량, 거래에 사용중인 원화 보유량'"
   ]
  },
  {
   "cell_type": "code",
   "execution_count": null,
   "id": "e4662f42",
   "metadata": {},
   "outputs": [],
   "source": [
    "sell_coins=balance[0]-balance[1]"
   ]
  },
  {
   "cell_type": "code",
   "execution_count": null,
   "id": "c1b1752e",
   "metadata": {},
   "outputs": [],
   "source": [
    "buy_coins=((balance[2]-balance[3])/price)"
   ]
  },
  {
   "cell_type": "code",
   "execution_count": null,
   "id": "a9de504b",
   "metadata": {},
   "outputs": [],
   "source": [
    "current_price=pybithumb.get_current_price(coin_name)\n",
    "current_price=int(pybithumb.get_current_price(coin_name))"
   ]
  },
  {
   "cell_type": "code",
   "execution_count": null,
   "id": "75686ff0",
   "metadata": {},
   "outputs": [],
   "source": [
    "def target_price(sign): # sign은 보조지표에서 반환받은 현재 포지션 (매도 또는 매수)\n",
    "\n",
    "    orderbook = pybithumb.get_orderbook(coin_name)\n",
    "    \n",
    "    if sign == \"매수\":\n",
    "        target=orderbook.get(\"bids\")[0][\"price\"] # 첫 번째 매수호가\n",
    "    elif sign == \"매도\":\n",
    "        target=orderbook.get(\"asks\")[0][\"price\"] # 첫 번째 매도호가\n",
    "    else:\n",
    "    \ttarget=pybithumb.get_current_price(coin_name)\n",
    "\t\n",
    "    return target"
   ]
  }
 ],
 "metadata": {
  "kernelspec": {
   "display_name": "Python 3 (ipykernel)",
   "language": "python",
   "name": "python3"
  },
  "language_info": {
   "codemirror_mode": {
    "name": "ipython",
    "version": 3
   },
   "file_extension": ".py",
   "mimetype": "text/x-python",
   "name": "python",
   "nbconvert_exporter": "python",
   "pygments_lexer": "ipython3",
   "version": "3.9.13"
  }
 },
 "nbformat": 4,
 "nbformat_minor": 5
}
