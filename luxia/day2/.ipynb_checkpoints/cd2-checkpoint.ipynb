{
 "cells": [
  {
   "cell_type": "code",
   "execution_count": 2,
   "id": "0891345b",
   "metadata": {
    "scrolled": true
   },
   "outputs": [
    {
     "name": "stdout",
     "output_type": "stream",
     "text": [
      "Collecting selenium\n",
      "  Downloading selenium-4.8.2-py3-none-any.whl (6.9 MB)\n",
      "     ---------------------------------------- 6.9/6.9 MB 11.7 MB/s eta 0:00:00\n",
      "Requirement already satisfied: urllib3[socks]~=1.26 in c:\\users\\potatonet\\anaconda3\\lib\\site-packages (from selenium) (1.26.3)\n",
      "Collecting trio-websocket~=0.9\n",
      "  Downloading trio_websocket-0.10.2-py3-none-any.whl (17 kB)\n",
      "Collecting trio~=0.17\n",
      "  Downloading trio-0.22.0-py3-none-any.whl (384 kB)\n",
      "     ------------------------------------- 384.9/384.9 kB 12.1 MB/s eta 0:00:00\n",
      "Collecting certifi>=2021.10.8\n",
      "  Using cached certifi-2022.12.7-py3-none-any.whl (155 kB)\n",
      "Requirement already satisfied: attrs>=19.2.0 in c:\\users\\potatonet\\anaconda3\\lib\\site-packages (from trio~=0.17->selenium) (21.4.0)\n",
      "Requirement already satisfied: idna in c:\\users\\potatonet\\anaconda3\\lib\\site-packages (from trio~=0.17->selenium) (3.3)\n",
      "Requirement already satisfied: sortedcontainers in c:\\users\\potatonet\\anaconda3\\lib\\site-packages (from trio~=0.17->selenium) (2.4.0)\n",
      "Collecting exceptiongroup>=1.0.0rc9\n",
      "  Downloading exceptiongroup-1.1.1-py3-none-any.whl (14 kB)\n",
      "Requirement already satisfied: sniffio in c:\\users\\potatonet\\anaconda3\\lib\\site-packages (from trio~=0.17->selenium) (1.2.0)\n",
      "Collecting outcome\n",
      "  Downloading outcome-1.2.0-py2.py3-none-any.whl (9.7 kB)\n",
      "Collecting async-generator>=1.9\n",
      "  Downloading async_generator-1.10-py3-none-any.whl (18 kB)\n",
      "Requirement already satisfied: cffi>=1.14 in c:\\users\\potatonet\\anaconda3\\lib\\site-packages (from trio~=0.17->selenium) (1.15.1)\n",
      "Collecting wsproto>=0.14\n",
      "  Downloading wsproto-1.2.0-py3-none-any.whl (24 kB)\n",
      "Requirement already satisfied: PySocks!=1.5.7,<2.0,>=1.5.6 in c:\\users\\potatonet\\anaconda3\\lib\\site-packages (from urllib3[socks]~=1.26->selenium) (1.7.1)\n",
      "Requirement already satisfied: pycparser in c:\\users\\potatonet\\anaconda3\\lib\\site-packages (from cffi>=1.14->trio~=0.17->selenium) (2.21)\n",
      "Requirement already satisfied: h11<1,>=0.9.0 in c:\\users\\potatonet\\anaconda3\\lib\\site-packages (from wsproto>=0.14->trio-websocket~=0.9->selenium) (0.14.0)\n",
      "Installing collected packages: wsproto, outcome, exceptiongroup, certifi, async-generator, trio, trio-websocket, selenium\n",
      "  Attempting uninstall: certifi\n",
      "    Found existing installation: certifi 2020.12.5\n",
      "    Uninstalling certifi-2020.12.5:\n",
      "      Successfully uninstalled certifi-2020.12.5\n",
      "Successfully installed async-generator-1.10 certifi-2022.12.7 exceptiongroup-1.1.1 outcome-1.2.0 selenium-4.8.2 trio-0.22.0 trio-websocket-0.10.2 wsproto-1.2.0\n",
      "Note: you may need to restart the kernel to use updated packages.\n"
     ]
    },
    {
     "name": "stderr",
     "output_type": "stream",
     "text": [
      "ERROR: pip's dependency resolver does not currently take into account all the packages that are installed. This behaviour is the source of the following dependency conflicts.\n",
      "anaconda-project 0.11.1 requires ruamel-yaml, which is not installed.\n",
      "sentry-sdk 1.16.0 requires urllib3>=1.26.11; python_version >= \"3.6\", but you have urllib3 1.26.3 which is incompatible.\n",
      "fedml 0.7.502 requires numpy==1.21, but you have numpy 1.24.2 which is incompatible.\n",
      "conda-repo-cli 1.0.20 requires clyent==1.2.1, but you have clyent 1.2.2 which is incompatible.\n",
      "conda-repo-cli 1.0.20 requires nbformat==5.4.0, but you have nbformat 5.5.0 which is incompatible.\n",
      "anaconda-client 1.11.0 requires urllib3>=1.26.4, but you have urllib3 1.26.3 which is incompatible.\n"
     ]
    }
   ],
   "source": [
    "pip install selenium"
   ]
  },
  {
   "cell_type": "code",
   "execution_count": 32,
   "id": "6f3b669c",
   "metadata": {},
   "outputs": [
    {
     "name": "stderr",
     "output_type": "stream",
     "text": [
      "C:\\Users\\Potatonet\\AppData\\Local\\Temp\\ipykernel_4836\\2311700136.py:8: DeprecationWarning: executable_path has been deprecated, please pass in a Service object\n",
      "  driver = webdriver.Chrome(driver_path)\n"
     ]
    }
   ],
   "source": [
    "from selenium import webdriver\n",
    "from bs4 import BeautifulSoup\n",
    "from selenium.webdriver.common.by import By\n",
    "url = 'https://marketplace.marblex.io/game/MARBLERSHIP/Marblership/Rainbow'\n",
    "driver_path ='./chromedriver/111/chromedriver.exe'\n",
    "\n",
    "\n",
    "driver = webdriver.Chrome(driver_path)\n",
    "driver.implicitly_wait(2)\n",
    "driver.get(url)"
   ]
  },
  {
   "cell_type": "code",
   "execution_count": 39,
   "id": "c77a5b54",
   "metadata": {},
   "outputs": [],
   "source": [
    "wrap_box = driver.find_element(By.CLASS_NAME, 'wrap-box').text"
   ]
  },
  {
   "cell_type": "code",
   "execution_count": 57,
   "id": "cde4d2f7",
   "metadata": {},
   "outputs": [],
   "source": [
    "value, key = [wrap_box.split('\\n')[::2], wrap_box.split('\\n')[1::2]]"
   ]
  },
  {
   "cell_type": "code",
   "execution_count": 58,
   "id": "a5593fee",
   "metadata": {},
   "outputs": [],
   "source": [
    "wrap_box = {key:value for value, key in zip(wrap_box.split('\\n')[::2], wrap_box.split('\\n')[1::2])}"
   ]
  },
  {
   "cell_type": "code",
   "execution_count": 59,
   "id": "3405d177",
   "metadata": {
    "scrolled": false
   },
   "outputs": [
    {
     "data": {
      "text/plain": [
       "{'Items': '5,600', 'Owners': '1,052', 'Floor Price': '68', 'Total Vol': '301K'}"
      ]
     },
     "execution_count": 59,
     "metadata": {},
     "output_type": "execute_result"
    }
   ],
   "source": [
    "wrap_box"
   ]
  },
  {
   "cell_type": "code",
   "execution_count": null,
   "id": "58801b59",
   "metadata": {},
   "outputs": [],
   "source": []
  },
  {
   "cell_type": "code",
   "execution_count": null,
   "id": "1396fe0c",
   "metadata": {},
   "outputs": [],
   "source": []
  },
  {
   "cell_type": "code",
   "execution_count": null,
   "id": "fa722a06",
   "metadata": {},
   "outputs": [],
   "source": []
  },
  {
   "cell_type": "code",
   "execution_count": 63,
   "id": "b90dcc63",
   "metadata": {},
   "outputs": [],
   "source": [
    "from selenium import webdriver\n",
    "from bs4 import BeautifulSoup\n",
    "from selenium.webdriver.common.by import By\n",
    "\n",
    "def get_FPrice(driver):\n",
    "    wrap_box = driver.find_element(By.CLASS_NAME, 'wrap-box').text\n",
    "    wrap_box = {key:value for value, key in zip(wrap_box.split('\\n')[::2], wrap_box.split('\\n')[1::2])}\n",
    "    return wrap_box['Floor Price']"
   ]
  },
  {
   "cell_type": "code",
   "execution_count": 62,
   "id": "15e5d540",
   "metadata": {},
   "outputs": [
    {
     "name": "stderr",
     "output_type": "stream",
     "text": [
      "C:\\Users\\Potatonet\\AppData\\Local\\Temp\\ipykernel_4836\\2311700136.py:8: DeprecationWarning: executable_path has been deprecated, please pass in a Service object\n",
      "  driver = webdriver.Chrome(driver_path)\n"
     ]
    }
   ],
   "source": [
    "url = 'https://marketplace.marblex.io/game/MARBLERSHIP/Marblership/Rainbow'\n",
    "driver_path ='./chromedriver/111/chromedriver.exe'\n",
    "\n",
    "\n",
    "driver = webdriver.Chrome(driver_path)\n",
    "driver.implicitly_wait(2)\n",
    "driver.get(url)"
   ]
  },
  {
   "cell_type": "code",
   "execution_count": 65,
   "id": "e5b8f2dd",
   "metadata": {},
   "outputs": [],
   "source": [
    "FPrice = int(get_FPrice(driver))"
   ]
  },
  {
   "cell_type": "code",
   "execution_count": 69,
   "id": "04d176f8",
   "metadata": {},
   "outputs": [
    {
     "name": "stdout",
     "output_type": "stream",
     "text": [
      "Floor Price 는 현재 68 입니다.\n"
     ]
    }
   ],
   "source": [
    "print(f'Floor Price 는 현재 {FPrice} 입니다.')"
   ]
  },
  {
   "cell_type": "code",
   "execution_count": null,
   "id": "e27e740c",
   "metadata": {},
   "outputs": [],
   "source": []
  }
 ],
 "metadata": {
  "kernelspec": {
   "display_name": "Python 3 (ipykernel)",
   "language": "python",
   "name": "python3"
  },
  "language_info": {
   "codemirror_mode": {
    "name": "ipython",
    "version": 3
   },
   "file_extension": ".py",
   "mimetype": "text/x-python",
   "name": "python",
   "nbconvert_exporter": "python",
   "pygments_lexer": "ipython3",
   "version": "3.9.13"
  }
 },
 "nbformat": 4,
 "nbformat_minor": 5
}
